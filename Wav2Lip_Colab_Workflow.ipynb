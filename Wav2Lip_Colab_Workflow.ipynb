{
  "cells": [
    {
      "cell_type": "markdown",
      "metadata": {
        "id": "view-in-github",
        "colab_type": "text"
      },
      "source": [
        "<a href=\"https://colab.research.google.com/github/rezaravasia/rezaravasia.github.io/blob/main/Wav2Lip_Colab_Workflow.ipynb\" target=\"_parent\"><img src=\"https://colab.research.google.com/assets/colab-badge.svg\" alt=\"Open In Colab\"/></a>"
      ]
    },
    {
      "cell_type": "markdown",
      "id": "e08e4f0e",
      "metadata": {
        "id": "e08e4f0e"
      },
      "source": [
        "# 🎬 Wav2Lip AI Inference Workflow\n",
        "_Colab Notebook by ChatGPT_"
      ]
    },
    {
      "cell_type": "markdown",
      "id": "252f6918",
      "metadata": {
        "id": "252f6918"
      },
      "source": [
        "## 1. 🗂️ Mount Google Drive"
      ]
    },
    {
      "cell_type": "code",
      "execution_count": null,
      "id": "8401f1a5",
      "metadata": {
        "id": "8401f1a5"
      },
      "outputs": [],
      "source": [
        "from google.colab import drive\n",
        "drive.mount('/content/drive')"
      ]
    },
    {
      "cell_type": "markdown",
      "id": "0ca25edc",
      "metadata": {
        "id": "0ca25edc"
      },
      "source": [
        "## 2. 🧬 Clone Repo Wav2Lip"
      ]
    },
    {
      "cell_type": "code",
      "execution_count": null,
      "id": "760715b2",
      "metadata": {
        "id": "760715b2"
      },
      "outputs": [],
      "source": [
        "!git clone https://github.com/Rudrabha/Wav2Lip.git\n",
        "%cd Wav2Lip"
      ]
    },
    {
      "cell_type": "markdown",
      "id": "cad606e3",
      "metadata": {
        "id": "cad606e3"
      },
      "source": [
        "## 3. 📦 Install Dependencies"
      ]
    },
    {
      "cell_type": "code",
      "execution_count": null,
      "id": "5f6bdc0d",
      "metadata": {
        "id": "5f6bdc0d"
      },
      "outputs": [],
      "source": [
        "!pip install librosa==0.8.1 numba==0.58.1 numpy==1.26.4 scipy==1.16.0\n",
        "!pip install torch==2.2.2 torchvision==0.17.2 -f https://download.pytorch.org/whl/torch_stable.html\n",
        "!pip install opencv-contrib-python==4.5.5.64"
      ]
    },
    {
      "cell_type": "markdown",
      "id": "ab32131b",
      "metadata": {
        "id": "ab32131b"
      },
      "source": [
        "## 4. 🔧 Patch audio.py _(Optional)_"
      ]
    },
    {
      "cell_type": "code",
      "execution_count": null,
      "id": "f949746f",
      "metadata": {
        "id": "f949746f"
      },
      "outputs": [],
      "source": [
        "# Lakukan modifikasi manual jika diperlukan (misalnya: kompatibilitas librosa)"
      ]
    },
    {
      "cell_type": "markdown",
      "id": "29236db7",
      "metadata": {
        "id": "29236db7"
      },
      "source": [
        "## 5. 🎵 Upload Input File (Audio + Image)"
      ]
    },
    {
      "cell_type": "code",
      "execution_count": null,
      "id": "7e24e67f",
      "metadata": {
        "id": "7e24e67f"
      },
      "outputs": [],
      "source": [
        "from google.colab import files\n",
        "uploaded = files.upload()"
      ]
    },
    {
      "cell_type": "markdown",
      "id": "e4ada977",
      "metadata": {
        "id": "e4ada977"
      },
      "source": [
        "## 6. ✅ Test Apakah File Terdeteksi"
      ]
    },
    {
      "cell_type": "code",
      "execution_count": null,
      "id": "4e966fbe",
      "metadata": {
        "id": "4e966fbe"
      },
      "outputs": [],
      "source": [
        "from IPython.display import Image, Audio, display\n",
        "display(Image(filename=\"image.jpg\"))\n",
        "display(Audio(filename=\"chorus.wav\"))"
      ]
    },
    {
      "cell_type": "markdown",
      "id": "874d2dd5",
      "metadata": {
        "id": "874d2dd5"
      },
      "source": [
        "## 7. 🎯 Run Inference"
      ]
    },
    {
      "cell_type": "code",
      "execution_count": null,
      "id": "df46170c",
      "metadata": {
        "id": "df46170c"
      },
      "outputs": [],
      "source": [
        "%cd /content/Wav2Lip\n",
        "!gdown 1rwXuh1B8Z8eaf7YJt5DqtZ3v7G1qjV7L -O Wav2Lip.pth\n",
        "!python inference.py --checkpoint_path Wav2Lip.pth --face \"/content/image.jpg\" --audio \"/content/chorus.wav\" --outfile \"/content/output_lipsync.mp4\""
      ]
    },
    {
      "cell_type": "markdown",
      "id": "4d766d37",
      "metadata": {
        "id": "4d766d37"
      },
      "source": [
        "## 8. 💾 Save ke Google Drive"
      ]
    },
    {
      "cell_type": "code",
      "execution_count": null,
      "id": "802b6994",
      "metadata": {
        "id": "802b6994"
      },
      "outputs": [],
      "source": [
        "!mkdir -p /content/drive/MyDrive/Wav2Lip-Project/Output\n",
        "!cp /content/output_lipsync.mp4 /content/drive/MyDrive/Wav2Lip-Project/Output/output_lipsync.mp4"
      ]
    }
  ],
  "metadata": {
    "colab": {
      "provenance": [],
      "include_colab_link": true
    }
  },
  "nbformat": 4,
  "nbformat_minor": 5
}